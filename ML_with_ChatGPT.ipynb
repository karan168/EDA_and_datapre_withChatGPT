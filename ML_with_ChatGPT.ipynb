{
 "cells": [
  {
   "cell_type": "markdown",
   "id": "2537d954-c6ad-47d5-a663-46ce5c987491",
   "metadata": {},
   "source": [
    "# First attempt at ML with ChatGPT"
   ]
  },
  {
   "cell_type": "code",
   "execution_count": 1,
   "id": "9110a701-3f5b-421b-ba54-a12aeceae210",
   "metadata": {},
   "outputs": [],
   "source": [
    "import pandas as pd"
   ]
  },
  {
   "cell_type": "code",
   "execution_count": 7,
   "id": "8db88438-3281-4b97-adc6-019389773b0f",
   "metadata": {},
   "outputs": [
    {
     "data": {
      "text/html": [
       "<div>\n",
       "<style scoped>\n",
       "    .dataframe tbody tr th:only-of-type {\n",
       "        vertical-align: middle;\n",
       "    }\n",
       "\n",
       "    .dataframe tbody tr th {\n",
       "        vertical-align: top;\n",
       "    }\n",
       "\n",
       "    .dataframe thead th {\n",
       "        text-align: right;\n",
       "    }\n",
       "</style>\n",
       "<table border=\"1\" class=\"dataframe\">\n",
       "  <thead>\n",
       "    <tr style=\"text-align: right;\">\n",
       "      <th></th>\n",
       "      <th>PatientID</th>\n",
       "      <th>Name</th>\n",
       "      <th>Age</th>\n",
       "      <th>Diagnosis</th>\n",
       "      <th>LabResult</th>\n",
       "      <th>Diagnosis_Encoded</th>\n",
       "    </tr>\n",
       "  </thead>\n",
       "  <tbody>\n",
       "    <tr>\n",
       "      <th>0</th>\n",
       "      <td>1001</td>\n",
       "      <td>Patient_1</td>\n",
       "      <td>20</td>\n",
       "      <td>Diabetes</td>\n",
       "      <td>167</td>\n",
       "      <td>0</td>\n",
       "    </tr>\n",
       "    <tr>\n",
       "      <th>1</th>\n",
       "      <td>1002</td>\n",
       "      <td>Patient_2</td>\n",
       "      <td>74</td>\n",
       "      <td>Diabetes</td>\n",
       "      <td>153</td>\n",
       "      <td>0</td>\n",
       "    </tr>\n",
       "    <tr>\n",
       "      <th>2</th>\n",
       "      <td>1003</td>\n",
       "      <td>Patient_3</td>\n",
       "      <td>40</td>\n",
       "      <td>Hypertension</td>\n",
       "      <td>196</td>\n",
       "      <td>1</td>\n",
       "    </tr>\n",
       "    <tr>\n",
       "      <th>3</th>\n",
       "      <td>1004</td>\n",
       "      <td>Patient_4</td>\n",
       "      <td>23</td>\n",
       "      <td>Unknown</td>\n",
       "      <td>157</td>\n",
       "      <td>2</td>\n",
       "    </tr>\n",
       "    <tr>\n",
       "      <th>4</th>\n",
       "      <td>1005</td>\n",
       "      <td>Patient_5</td>\n",
       "      <td>35</td>\n",
       "      <td>Diabetes</td>\n",
       "      <td>115</td>\n",
       "      <td>0</td>\n",
       "    </tr>\n",
       "    <tr>\n",
       "      <th>...</th>\n",
       "      <td>...</td>\n",
       "      <td>...</td>\n",
       "      <td>...</td>\n",
       "      <td>...</td>\n",
       "      <td>...</td>\n",
       "      <td>...</td>\n",
       "    </tr>\n",
       "    <tr>\n",
       "      <th>95</th>\n",
       "      <td>1096</td>\n",
       "      <td>Patient_96</td>\n",
       "      <td>40</td>\n",
       "      <td>Diabetes</td>\n",
       "      <td>96</td>\n",
       "      <td>0</td>\n",
       "    </tr>\n",
       "    <tr>\n",
       "      <th>96</th>\n",
       "      <td>1097</td>\n",
       "      <td>Patient_97</td>\n",
       "      <td>60</td>\n",
       "      <td>Diabetes</td>\n",
       "      <td>192</td>\n",
       "      <td>0</td>\n",
       "    </tr>\n",
       "    <tr>\n",
       "      <th>97</th>\n",
       "      <td>1098</td>\n",
       "      <td>Patient_98</td>\n",
       "      <td>45</td>\n",
       "      <td>Diabetes</td>\n",
       "      <td>88</td>\n",
       "      <td>0</td>\n",
       "    </tr>\n",
       "    <tr>\n",
       "      <th>98</th>\n",
       "      <td>1099</td>\n",
       "      <td>Patient_99</td>\n",
       "      <td>61</td>\n",
       "      <td>Common Cold</td>\n",
       "      <td>81</td>\n",
       "      <td>4</td>\n",
       "    </tr>\n",
       "    <tr>\n",
       "      <th>99</th>\n",
       "      <td>1100</td>\n",
       "      <td>Patient_100</td>\n",
       "      <td>73</td>\n",
       "      <td>Unknown</td>\n",
       "      <td>160</td>\n",
       "      <td>2</td>\n",
       "    </tr>\n",
       "  </tbody>\n",
       "</table>\n",
       "<p>100 rows × 6 columns</p>\n",
       "</div>"
      ],
      "text/plain": [
       "    PatientID         Name  Age     Diagnosis  LabResult  Diagnosis_Encoded\n",
       "0        1001    Patient_1   20      Diabetes        167                  0\n",
       "1        1002    Patient_2   74      Diabetes        153                  0\n",
       "2        1003    Patient_3   40  Hypertension        196                  1\n",
       "3        1004    Patient_4   23       Unknown        157                  2\n",
       "4        1005    Patient_5   35      Diabetes        115                  0\n",
       "..        ...          ...  ...           ...        ...                ...\n",
       "95       1096   Patient_96   40      Diabetes         96                  0\n",
       "96       1097   Patient_97   60      Diabetes        192                  0\n",
       "97       1098   Patient_98   45      Diabetes         88                  0\n",
       "98       1099   Patient_99   61   Common Cold         81                  4\n",
       "99       1100  Patient_100   73       Unknown        160                  2\n",
       "\n",
       "[100 rows x 6 columns]"
      ]
     },
     "execution_count": 7,
     "metadata": {},
     "output_type": "execute_result"
    }
   ],
   "source": [
    "patients_data=pd.read_csv(r\"F:\\patients_preprocessed.csv\")\n",
    "patients_data"
   ]
  },
  {
   "cell_type": "code",
   "execution_count": 11,
   "id": "ca8259ec-2963-449e-abab-1cb76105a723",
   "metadata": {},
   "outputs": [
    {
     "name": "stderr",
     "output_type": "stream",
     "text": [
      "C:\\Users\\karan\\AppData\\Local\\Temp\\ipykernel_139428\\3828286223.py:28: SettingWithCopyWarning: \n",
      "A value is trying to be set on a copy of a slice from a DataFrame.\n",
      "Try using .loc[row_indexer,col_indexer] = value instead\n",
      "\n",
      "See the caveats in the documentation: https://pandas.pydata.org/pandas-docs/stable/user_guide/indexing.html#returning-a-view-versus-a-copy\n",
      "  unknown_diagnosis_data['Diagnosis'] = predicted_diagnosis\n"
     ]
    },
    {
     "data": {
      "text/plain": [
       "(0.0625, 0)"
      ]
     },
     "execution_count": 11,
     "metadata": {},
     "output_type": "execute_result"
    }
   ],
   "source": [
    "from sklearn.tree import DecisionTreeClassifier\n",
    "from sklearn.model_selection import train_test_split\n",
    "\n",
    "# Prepare the dataset for training\n",
    "# We will remove rows with \"Unknown\" diagnosis to train the model and then predict for the \"Unknown\" ones\n",
    "known_diagnosis_data = patients_data[patients_data['Diagnosis'] != 'Unknown']\n",
    "unknown_diagnosis_data = patients_data[patients_data['Diagnosis'] == 'Unknown']\n",
    "\n",
    "# Features and target\n",
    "X = known_diagnosis_data[['Age', 'LabResult']]\n",
    "y = known_diagnosis_data['Diagnosis']\n",
    "\n",
    "# Split the data into training and testing sets for model validation\n",
    "X_train, X_test, y_train, y_test = train_test_split(X, y, test_size=0.2, random_state=42)\n",
    "\n",
    "# Train a Decision Tree classifier\n",
    "clf = DecisionTreeClassifier(random_state=42)\n",
    "clf.fit(X_train, y_train)\n",
    "\n",
    "# Validate the model on the test set\n",
    "accuracy = clf.score(X_test, y_test)\n",
    "\n",
    "# Predict the diagnosis for the rows with \"Unknown\" diagnosis\n",
    "X_unknown = unknown_diagnosis_data[['Age', 'LabResult']]\n",
    "predicted_diagnosis = clf.predict(X_unknown)\n",
    "\n",
    "# Update the dataframe with the imputed values\n",
    "unknown_diagnosis_data['Diagnosis'] = predicted_diagnosis\n",
    "\n",
    "# Combine the data back together\n",
    "imputed_data = pd.concat([known_diagnosis_data, unknown_diagnosis_data], axis=0).sort_index()\n",
    "\n",
    "accuracy, imputed_data[imputed_data['Diagnosis'] == 'Unknown'].shape[0]\n"
   ]
  },
  {
   "cell_type": "code",
   "execution_count": 13,
   "id": "861f1d70-06b2-4def-9e6e-bade53c19018",
   "metadata": {},
   "outputs": [
    {
     "data": {
      "text/plain": [
       "0.375"
      ]
     },
     "execution_count": 13,
     "metadata": {},
     "output_type": "execute_result"
    }
   ],
   "source": [
    "from sklearn.neighbors import KNeighborsClassifier\n",
    "from sklearn.preprocessing import StandardScaler\n",
    "\n",
    "# Since k-NN is sensitive to feature scales, we'll standardize the features\n",
    "scaler = StandardScaler()\n",
    "X_train_scaled = scaler.fit_transform(X_train)\n",
    "X_test_scaled = scaler.transform(X_test)\n",
    "X_unknown_scaled = scaler.transform(X_unknown)\n",
    "\n",
    "# Train a k-NN classifier\n",
    "knn = KNeighborsClassifier(n_neighbors=5)  # We'll use the commonly chosen k=5 for simplicity\n",
    "knn.fit(X_train_scaled, y_train)\n",
    "\n",
    "# Validate the model on the test set\n",
    "knn_accuracy = knn.score(X_test_scaled, y_test)\n",
    "\n",
    "knn_accuracy\n"
   ]
  },
  {
   "cell_type": "code",
   "execution_count": null,
   "id": "b3051acc-e6c1-49a5-956a-4c94fd38b5aa",
   "metadata": {},
   "outputs": [],
   "source": []
  }
 ],
 "metadata": {
  "kernelspec": {
   "display_name": "Python [conda env:base] *",
   "language": "python",
   "name": "conda-base-py"
  },
  "language_info": {
   "codemirror_mode": {
    "name": "ipython",
    "version": 3
   },
   "file_extension": ".py",
   "mimetype": "text/x-python",
   "name": "python",
   "nbconvert_exporter": "python",
   "pygments_lexer": "ipython3",
   "version": "3.12.7"
  }
 },
 "nbformat": 4,
 "nbformat_minor": 5
}
